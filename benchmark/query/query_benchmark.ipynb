{
 "cells": [
  {
   "cell_type": "markdown",
   "metadata": {},
   "source": [
    "# Query benchmark\n",
    "\n",
    "In this benchmark we compare the query performance for [PyBIDS](https://github.com/bids-standard/pybids), [ancpBIDS](https://github.com/ANCPLabOldenburg/ancp-bids), and [bids2table](https://github.com/childmindresearch/bids2table). The queries are modeled after the [PyBIDS `BIDSLayout` tutorial](https://bids-standard.github.io/pybids/examples/pybids_tutorial.html#querying-the-bidslayout).\n",
    "\n",
    "For this benchmark, we use raw data from the [Chinese Color Nest Project](http://deepneuro.bnu.edu.cn/?p=163) (195 subjects, 2 resting state sessions per subject)."
   ]
  },
  {
   "cell_type": "code",
   "execution_count": 1,
   "metadata": {},
   "outputs": [
    {
     "name": "stderr",
     "output_type": "stream",
     "text": [
      "/ocean/projects/med220004p/clane2/code/bids2table-v2/benchmark/query/envs/query/lib/python3.10/site-packages/ancpbids/pybids_compat.py:12: UserWarning: Development of the BIDSLayout interface will continue in the pybids project.\n",
      "  warnings.warn('Development of the BIDSLayout interface will continue in the pybids project.')\n"
     ]
    }
   ],
   "source": [
    "import datetime\n",
    "from pathlib import Path\n",
    "\n",
    "import pandas as pd\n",
    "\n",
    "import bids\n",
    "import ancpbids\n",
    "import bids2table as b2t\n",
    "from ancpbids import pybids_compat as bids2"
   ]
  },
  {
   "cell_type": "code",
   "execution_count": 2,
   "metadata": {},
   "outputs": [
    {
     "name": "stdout",
     "output_type": "stream",
     "text": [
      "PyBIDS: 0.16.0\n",
      "ancpBIDS: 0.2.2\n",
      "bids2table: 0.1.dev29+gb7b1658\n"
     ]
    }
   ],
   "source": [
    "print(\"PyBIDS:\", bids.__version__)\n",
    "print(\"ancpBIDS:\", ancpbids.__version__)\n",
    "print(\"bids2table:\", b2t.__version__)"
   ]
  },
  {
   "cell_type": "markdown",
   "metadata": {},
   "source": [
    "## Index the dataset using the different backends\n",
    "\n",
    "We first index the data. We don't benchmark this step since [indexing is benchmarked separately](../indexing/).\n",
    "\n",
    "Note that both PyBIDS and ancpBIDS provide a similar `BIDSLayout` interface, whereas bids2table returns a pandas dataframe. This is a lower-level representation that arguably offers more flexibility at the price of more complicated syntax. In the future, we may consider implementing a [PyBIDS-compatible layout interface](https://github.com/bids-standard/pybids/issues/989) on top of the bids2table dataframe."
   ]
  },
  {
   "cell_type": "code",
   "execution_count": 3,
   "metadata": {},
   "outputs": [],
   "source": [
    "bids_dir = Path(\"/ocean/projects/med220004p/shared/data_raw/RBC/CCNP_BIDS\")\n",
    "index_dir = Path(\"indexes\")"
   ]
  },
  {
   "cell_type": "code",
   "execution_count": 4,
   "metadata": {},
   "outputs": [
    {
     "name": "stderr",
     "output_type": "stream",
     "text": [
      "/ocean/projects/med220004p/clane2/code/bids2table-v2/benchmark/query/envs/query/lib/python3.10/site-packages/bids/layout/layout.py:512: UserWarning: Derivative indexing was requested, but no valid datasets were found in the specified locations ([PosixPath('/ocean/projects/med220004p/shared/data_raw/RBC/CCNP_BIDS/derivatives')]). Note that all BIDS-Derivatives datasets must meet all the requirements for BIDS-Raw datasets (a common problem is to fail to include a 'dataset_description.json' file in derivatives datasets).\n",
      "Example contents of 'dataset_description.json':\n",
      "{\"Name\": \"Example dataset\", \"BIDSVersion\": \"1.0.2\", \"GeneratedBy\": [{\"Name\": \"Example pipeline\"}]}\n",
      "  warnings.warn(\"Derivative indexing was requested, but no valid \"\n"
     ]
    }
   ],
   "source": [
    "# pybids indexing\n",
    "indexer = bids.BIDSLayoutIndexer(\n",
    "    validate=False,\n",
    "    index_metadata=True,\n",
    ")\n",
    "pb_layout = bids.BIDSLayout(\n",
    "    root=bids_dir,\n",
    "    validate=False,\n",
    "    absolute_paths=True,\n",
    "    derivatives=False,\n",
    "    database_path=index_dir / \"pybids.db\",\n",
    "    indexer=indexer,\n",
    ")"
   ]
  },
  {
   "cell_type": "code",
   "execution_count": 5,
   "metadata": {},
   "outputs": [],
   "source": [
    "# ancpbids indexing\n",
    "ab_layout = bids2.BIDSLayout(bids_dir)"
   ]
  },
  {
   "cell_type": "code",
   "execution_count": 6,
   "metadata": {},
   "outputs": [],
   "source": [
    "# bids2table indexing\n",
    "b2t_df = b2t.bids2table(bids_dir, persistent=True, output=\"indexes/index.b2t\")\n",
    "\n",
    "# drop hierarchical index\n",
    "b2t_df = b2t_df.droplevel(0, axis=1)\n",
    "\n",
    "# extract json sidecar data\n",
    "sidecar_df = pd.json_normalize(b2t_df[\"sidecar\"])\n",
    "b2t_df = pd.concat([b2t_df, sidecar_df], axis=1)"
   ]
  },
  {
   "cell_type": "markdown",
   "metadata": {},
   "source": [
    "## Compare query performance\n",
    "\n",
    "Next we compare the performance of the different indices on four queries:\n",
    "\n",
    "- Get subjects: Get a list of all unique subjects\n",
    "- Get BOLD: Get a list of all BOLD Nifti image files\n",
    "- Query Metadata: Find scans with a specific value for a sidecar metadata field\n",
    "- Get morning scans: Find scans that were acquired before 10 AM\n",
    "\n",
    "Below is a summary table of the query run times in milliseconds. We find that bids2table is >20x faster than PyBIDS and ancpBIDS.\n",
    "\n",
    "| Index | Get subjects (ms) | Get BOLD (ms) | Query metadata (ms) | Get morning scans (ms) |\n",
    "| -- | -- | -- | -- | -- |\n",
    "| PyBIDS | 1350 | 12.3 | 6.53 | 34.3 |\n",
    "| ancpBIDS | 30.6 | 19.2 | -- | -- |\n",
    "| bids2table | **0.046** | **0.346** | **0.312** | **0.352** |\n",
    "\n",
    "\n",
    "Note that ancpBIDS is missing values for the two queries that require accessing the sidecar metadata. It's possible that ancpBIDS supports these queries, but [looking at the documentation](https://ancpbids.readthedocs.io/en/latest/advancedQueries.html), it wasn't obvious to me how."
   ]
  },
  {
   "cell_type": "code",
   "execution_count": 7,
   "metadata": {},
   "outputs": [],
   "source": [
    "# for checking that the different indices produce the same result\n",
    "def is_equal(l1, l2):\n",
    "    return sorted(l1) == sorted(l2)"
   ]
  },
  {
   "cell_type": "markdown",
   "metadata": {},
   "source": [
    "### Get all subject IDs"
   ]
  },
  {
   "cell_type": "code",
   "execution_count": 8,
   "metadata": {},
   "outputs": [],
   "source": [
    "def pb_sub_query():\n",
    "    return pb_layout.get(return_type=\"id\", target=\"subject\")\n",
    "\n",
    "def ab_sub_query():\n",
    "    return ab_layout.get(return_type=\"id\", target=\"subject\")\n",
    "\n",
    "def b2t_sub_query():\n",
    "    return b2t_df[\"sub\"].unique().tolist()"
   ]
  },
  {
   "cell_type": "code",
   "execution_count": 9,
   "metadata": {},
   "outputs": [
    {
     "name": "stdout",
     "output_type": "stream",
     "text": [
      "1.35 s ± 3.15 ms per loop (mean ± std. dev. of 7 runs, 1 loop each)\n",
      "30.6 ms ± 75 µs per loop (mean ± std. dev. of 7 runs, 10 loops each)\n",
      "46 µs ± 273 ns per loop (mean ± std. dev. of 7 runs, 10,000 loops each)\n"
     ]
    }
   ],
   "source": [
    "%timeit pb_sub_query()\n",
    "%timeit ab_sub_query()\n",
    "%timeit b2t_sub_query()"
   ]
  },
  {
   "cell_type": "code",
   "execution_count": 10,
   "metadata": {},
   "outputs": [
    {
     "name": "stdout",
     "output_type": "stream",
     "text": [
      "pybids == ancpbids: True\n",
      "pybids == bids2table: True\n"
     ]
    }
   ],
   "source": [
    "print(\"pybids == ancpbids:\", is_equal(pb_sub_query(), ab_sub_query()))\n",
    "print(\"pybids == bids2table:\", is_equal(pb_sub_query(), b2t_sub_query()))"
   ]
  },
  {
   "cell_type": "markdown",
   "metadata": {},
   "source": [
    "### Get filenames for all BOLD images"
   ]
  },
  {
   "cell_type": "code",
   "execution_count": 11,
   "metadata": {},
   "outputs": [],
   "source": [
    "def pb_bold_query():\n",
    "    return pb_layout.get(extension=\"nii.gz\", suffix=\"bold\", return_type=\"filename\")\n",
    "\n",
    "def ab_bold_query():\n",
    "    return ab_layout.get(extension=\"nii.gz\", suffix=\"bold\", return_type=\"filename\")\n",
    "\n",
    "def b2t_bold_query():\n",
    "    return b2t_df.loc[\n",
    "        (b2t_df[\"ext\"] == '.nii.gz') & (b2t_df[\"suffix\"] == 'bold'),\n",
    "        \"file_path\"\n",
    "    ].tolist()"
   ]
  },
  {
   "cell_type": "code",
   "execution_count": 12,
   "metadata": {},
   "outputs": [
    {
     "name": "stdout",
     "output_type": "stream",
     "text": [
      "12.3 ms ± 41.2 µs per loop (mean ± std. dev. of 7 runs, 100 loops each)\n",
      "19.2 ms ± 42.4 µs per loop (mean ± std. dev. of 7 runs, 100 loops each)\n",
      "346 µs ± 270 ns per loop (mean ± std. dev. of 7 runs, 1,000 loops each)\n"
     ]
    }
   ],
   "source": [
    "%timeit pb_bold_query()\n",
    "%timeit ab_bold_query()\n",
    "%timeit b2t_bold_query()"
   ]
  },
  {
   "cell_type": "code",
   "execution_count": 13,
   "metadata": {},
   "outputs": [
    {
     "name": "stdout",
     "output_type": "stream",
     "text": [
      "pybids == ancpbids: True\n",
      "pybids == bids2table: True\n"
     ]
    }
   ],
   "source": [
    "print(\"pybids == ancpbids:\", is_equal(pb_bold_query(), ab_bold_query()))\n",
    "print(\"pybids == bids2table:\", is_equal(pb_bold_query(), b2t_bold_query()))"
   ]
  },
  {
   "cell_type": "markdown",
   "metadata": {},
   "source": [
    "### Query metadata"
   ]
  },
  {
   "cell_type": "code",
   "execution_count": 14,
   "metadata": {},
   "outputs": [],
   "source": [
    "def pb_meta_query():\n",
    "    return pb_layout.get(\n",
    "        subject=[\"colornest167\", \"colornest168\"],\n",
    "        NumVolumes=184,\n",
    "        return_type=\"filename\",\n",
    "    )\n",
    "\n",
    "def ab_meta_query():\n",
    "    # NOTE: This doesn't work. Does ancpbids support querying sidecar metadata?\n",
    "    return ab_layout.get(\n",
    "        subject=[\"colornest167\", \"colornest168\"],\n",
    "        NumVolumes=184,\n",
    "        return_type=\"filename\",\n",
    "    )\n",
    "\n",
    "def b2t_meta_query():\n",
    "    return b2t_df.loc[\n",
    "        (b2t_df[\"sub\"].isin([\"colornest167\", \"colornest168\"]))\n",
    "        & (b2t_df[\"NumVolumes\"] == 184),\n",
    "        \"file_path\"\n",
    "    ].tolist()"
   ]
  },
  {
   "cell_type": "code",
   "execution_count": 15,
   "metadata": {},
   "outputs": [
    {
     "name": "stdout",
     "output_type": "stream",
     "text": [
      "6.53 ms ± 68.2 µs per loop (mean ± std. dev. of 7 runs, 100 loops each)\n",
      "45.5 ms ± 83.3 µs per loop (mean ± std. dev. of 7 runs, 10 loops each)\n",
      "312 µs ± 850 ns per loop (mean ± std. dev. of 7 runs, 1,000 loops each)\n"
     ]
    }
   ],
   "source": [
    "%timeit pb_meta_query()\n",
    "%timeit ab_meta_query()\n",
    "%timeit b2t_meta_query()"
   ]
  },
  {
   "cell_type": "code",
   "execution_count": 16,
   "metadata": {},
   "outputs": [
    {
     "name": "stdout",
     "output_type": "stream",
     "text": [
      "pybids == ancpbids: False\n",
      "pybids == bids2table: True\n"
     ]
    }
   ],
   "source": [
    "print(\"pybids == ancpbids:\", is_equal(pb_meta_query(), ab_meta_query()))\n",
    "print(\"pybids == bids2table:\", is_equal(pb_meta_query(), b2t_meta_query()))"
   ]
  },
  {
   "cell_type": "markdown",
   "metadata": {},
   "source": [
    "### Get morning scans"
   ]
  },
  {
   "cell_type": "code",
   "execution_count": 17,
   "metadata": {},
   "outputs": [],
   "source": [
    "def pb_morning_query():\n",
    "    file_names = pd.Series(\n",
    "        pb_layout.get(extension=\"nii.gz\", return_type=\"filename\")\n",
    "    )\n",
    "    acq_times = pd.Series(\n",
    "        pb_layout.get(extension=\"nii.gz\", target=\"AcquisitionTime\", return_type=\"id\")\n",
    "    )\n",
    "    file_names = file_names[acq_times < datetime.time(10).strftime(\"%H:%M:%S.%f\")]\n",
    "    return file_names.to_list()\n",
    "\n",
    "def b2t_morning_query():\n",
    "    return (\n",
    "        b2t_df\n",
    "        .loc[\n",
    "            (b2t_df[\"ext\"] == \".nii.gz\")\n",
    "            & (b2t_df[\"AcquisitionTime\"] < datetime.time(10).strftime(\"%H:%M:%S.%f\")),\n",
    "            \"file_path\"\n",
    "        ].tolist()\n",
    "    )"
   ]
  },
  {
   "cell_type": "code",
   "execution_count": 18,
   "metadata": {},
   "outputs": [
    {
     "name": "stdout",
     "output_type": "stream",
     "text": [
      "34.3 ms ± 261 µs per loop (mean ± std. dev. of 7 runs, 10 loops each)\n",
      "352 µs ± 1.44 µs per loop (mean ± std. dev. of 7 runs, 1,000 loops each)\n"
     ]
    }
   ],
   "source": [
    "%timeit pb_morning_query()\n",
    "%timeit b2t_morning_query()"
   ]
  },
  {
   "cell_type": "code",
   "execution_count": 19,
   "metadata": {},
   "outputs": [
    {
     "name": "stdout",
     "output_type": "stream",
     "text": [
      "pybids == bids2table: True\n"
     ]
    }
   ],
   "source": [
    "print(\"pybids == bids2table:\", is_equal(pb_morning_query(), b2t_morning_query()))"
   ]
  }
 ],
 "metadata": {
  "kernelspec": {
   "display_name": "Python 3 (ipykernel)",
   "language": "python",
   "name": "python3"
  },
  "language_info": {
   "codemirror_mode": {
    "name": "ipython",
    "version": 3
   },
   "file_extension": ".py",
   "mimetype": "text/x-python",
   "name": "python",
   "nbconvert_exporter": "python",
   "pygments_lexer": "ipython3",
   "version": "3.10.11"
  },
  "orig_nbformat": 4
 },
 "nbformat": 4,
 "nbformat_minor": 2
}
